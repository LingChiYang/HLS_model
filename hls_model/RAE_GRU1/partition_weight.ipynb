{
 "cells": [
  {
   "cell_type": "code",
   "execution_count": 4,
   "metadata": {},
   "outputs": [
    {
     "name": "stdout",
     "output_type": "stream",
     "text": [
      "(786432,)\n",
      "(393216,)\n",
      "(393216,)\n"
     ]
    }
   ],
   "source": [
    "import numpy as np\n",
    "#read txt\n",
    "weight = np.loadtxt('./src/weights/w12.txt', dtype=np.float32, delimiter=',')\n",
    "print(weight.shape)\n",
    "weight = weight.reshape(512*3, 512)\n",
    "weight1 = weight[:,:256].reshape(-1,)\n",
    "weight2 = weight[:,256:].reshape(-1,)\n",
    "print(weight1.shape)\n",
    "print(weight2.shape)\n",
    "np.savetxt('./src/weights/w120.txt', weight1, fmt='%.7e', delimiter=',')\n",
    "np.savetxt('./src/weights/w121.txt', weight2, fmt='%.7e', delimiter=',')"
   ]
  }
 ],
 "metadata": {
  "kernelspec": {
   "display_name": "lfads_hls4ml_new",
   "language": "python",
   "name": "python3"
  },
  "language_info": {
   "codemirror_mode": {
    "name": "ipython",
    "version": 3
   },
   "file_extension": ".py",
   "mimetype": "text/x-python",
   "name": "python",
   "nbconvert_exporter": "python",
   "pygments_lexer": "ipython3",
   "version": "3.8.16"
  },
  "orig_nbformat": 4
 },
 "nbformat": 4,
 "nbformat_minor": 2
}
